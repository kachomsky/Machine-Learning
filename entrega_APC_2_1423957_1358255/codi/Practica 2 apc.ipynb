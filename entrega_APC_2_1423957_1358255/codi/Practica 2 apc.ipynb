{
 "cells": [
  {
   "cell_type": "code",
   "execution_count": 520,
   "metadata": {},
   "outputs": [
    {
     "name": "stdout",
     "output_type": "stream",
     "text": [
      "47995 training images.\n"
     ]
    }
   ],
   "source": [
    "%matplotlib inline\n",
    "import torch\n",
    "#Import main library\n",
    "from torch.utils.data import DataLoader\n",
    "#Main class for threaded data loading\n",
    "import matplotlib.pyplot as plt\n",
    "from torchvision import datasets, transforms\n",
    "import numpy as np\n",
    "import torch.nn.functional as F\n",
    "import timeit\n",
    "\n",
    "start = timeit.default_timer()\n",
    "#Optimizaiton config\n",
    "target_class = 3\n",
    "#Train a classifier for this class\n",
    "batch_size = 1000\n",
    "#Number of samples used to estimate the gradient (bigger = stable  training &  bigger learning rate)\n",
    "learning_rate = 0.1\n",
    "#Optimizer learning rate\n",
    "epochs = 100\n",
    "#Number of iterations over the whole dataset.\n",
    "# Prepare data\n",
    "train_data = np.load('../competition/train.npy')\n",
    "val_data = np.load('../competition/val.npy')\n",
    "def select_class(data, clss):\n",
    "    images = np.array(data.item()[\"images\"])\n",
    "    labels = np.array(data.item()[\"labels\"])\n",
    "    labels = (labels == target_class).astype(int)\n",
    "    return  images,labels\n",
    "\n",
    "train_images,train_labels = select_class(train_data,target_class)\n",
    "val_images, val_labels = select_class(val_data, target_class)\n",
    "train_size = train_labels.shape[0]\n",
    "val_size = val_labels.shape[0]\n",
    "#Normalitzem les dades, pasem de RGB a un valor entre 0 i 1\n",
    "train_images = train_images.astype('float32')\n",
    "val_images = val_images.astype('float32')\n",
    "val_images /= 255\n",
    "train_images /= 255\n",
    "print(train_size,\"training images.\")"
   ]
  },
  {
   "cell_type": "code",
   "execution_count": 521,
   "metadata": {},
   "outputs": [
    {
     "data": {
      "text/plain": [
       "<matplotlib.image.AxesImage at 0x7efd13af6978>"
      ]
     },
     "execution_count": 521,
     "metadata": {},
     "output_type": "execute_result"
    },
    {
     "data": {
      "image/png": "[encoded data removed]",
      "text/plain": [
       "<Figure size 432x288 with 2 Axes>"
      ]
     },
     "metadata": {},
     "output_type": "display_data"
    }
   ],
   "source": [
    "indices = np.arange(train_size)\n",
    "positive_indices = indices[train_labels == 1]\n",
    "negative_indices = indices[train_labels == 0]\n",
    "plt.figure()\n",
    "plt.subplot(1, 2, 1)\n",
    "plt.title(\"Positive\")\n",
    "plt.imshow(train_images[positive_indices[0], :, :], cmap=\"gray\")\n",
    "plt.subplot(1, 2, 2)\n",
    "plt.title(\"Negative\")\n",
    "plt.imshow(train_images[negative_indices[0], :, :], cmap=\"gray\")"
   ]
  },
  {
   "cell_type": "code",
   "execution_count": 522,
   "metadata": {},
   "outputs": [],
   "source": [
    "#init weights\n",
    "def init_weights(m):\n",
    "    if type(m) == torch.nn.Linear:\n",
    "        m.weight.data.fill_(0.01)"
   ]
  },
  {
   "cell_type": "code",
   "execution_count": 523,
   "metadata": {},
   "outputs": [],
   "source": [
    "def weights_init_random(m):\n",
    "    if type(m) == torch.nn.Linear:\n",
    "        m.weight.data.normal_(0.01, 1)"
   ]
  },
  {
   "cell_type": "code",
   "execution_count": 524,
   "metadata": {},
   "outputs": [],
   "source": [
    "class NeuralNet(torch.nn.Module):\n",
    "    def __init__(self):\n",
    "        super().__init__()\n",
    "        #Necessary for torch to detect this class as trainable\n",
    "        #Here define network architecture\n",
    "        self.layer1 = torch.nn.Linear(28**2, 8)\n",
    "        #Linear layer with 32 neurons\n",
    "        self.layer2 = torch.nn.Linear(8, 8)        \n",
    "        #Linear layer with 64 neurons\n",
    "        self.output = torch.nn.Linear(8, 1)\n",
    "    def forward(self, x):\n",
    "        #Here define architecture behavior\n",
    "        x = F.relu(self.layer1(x))\n",
    "        x = F.relu(self.layer2(x))        \n",
    "        return  torch.sigmoid(self.output(x))"
   ]
  },
  {
   "cell_type": "code",
   "execution_count": 525,
   "metadata": {
    "scrolled": true
   },
   "outputs": [
    {
     "data": {
      "text/plain": [
       "OrderedDict([('layer1.weight',\n",
       "              tensor([[ 0.0244, -0.0627, -0.0134,  ...,  0.0812,  0.0726,  0.0112],\n",
       "                      [ 0.0114, -0.0015,  0.0804,  ..., -0.0213, -0.0333, -0.0284],\n",
       "                      [-0.0174, -0.0453, -0.0085,  ..., -0.0646, -0.0224,  0.0852],\n",
       "                      ...,\n",
       "                      [ 0.0177,  0.0537,  0.0215,  ...,  0.0429, -0.0342,  0.0539],\n",
       "                      [-0.0484, -0.0353, -0.0340,  ..., -0.0324,  0.0299, -0.0822],\n",
       "                      [-0.0746, -0.0542, -0.0730,  ..., -0.0363, -0.0329,  0.0119]])),\n",
       "             ('layer1.bias',\n",
       "              tensor([-0.0164, -0.0044, -0.0082, -0.0338,  0.0216, -0.0217, -0.0046, -0.0033])),\n",
       "             ('layer2.weight',\n",
       "              tensor([[-0.0334,  0.5276, -0.1019,  0.4800,  0.2259, -0.1484, -0.0252,  0.1893],\n",
       "                      [-0.3188,  0.3395, -0.6083,  0.5621, -0.5041, -0.3630, -0.0937,  0.3789],\n",
       "                      [ 0.0297, -0.3770,  0.1778, -0.0884,  0.6089,  0.5823,  0.6114, -0.3267],\n",
       "                      [ 0.3038, -0.5668, -0.2572,  0.1269, -0.5429,  0.0279,  0.1089, -0.0120],\n",
       "                      [-0.4742,  0.4259,  0.0093,  0.1350, -0.5579, -0.3575,  0.2217,  0.5438],\n",
       "                      [-0.0339, -0.3271,  0.2434,  0.4152, -0.5051,  0.1072,  0.3449, -0.0245],\n",
       "                      [-0.2772,  0.5576,  0.3491,  0.4469,  0.0899, -0.5180, -0.3365, -0.0471],\n",
       "                      [-0.3800,  0.0872, -0.2324,  0.0523,  0.1717,  0.4697,  0.1165,  0.0546]])),\n",
       "             ('layer2.bias',\n",
       "              tensor([ 0.1687, -0.1381,  0.1001,  0.2908,  0.2467,  0.2257, -0.0746,  0.1319])),\n",
       "             ('output.weight',\n",
       "              tensor([[-0.4197, -0.3531,  0.3531,  0.2834,  0.0949, -0.7605,  0.1569,  0.3922]])),\n",
       "             ('output.bias', tensor([-0.0172]))])"
      ]
     },
     "execution_count": 525,
     "metadata": {},
     "output_type": "execute_result"
    }
   ],
   "source": [
    "#Binary output\n",
    "#Instantiate network\n",
    "model = NeuralNet()\n",
    "#model.apply(weights_init_random)\n",
    "#model.apply(init_weights)\n",
    "torch.nn.init.xavier_uniform_(model.layer1.weight)\n",
    "torch.nn.init.xavier_uniform_(model.layer2.weight)\n",
    "torch.nn.init.xavier_uniform_(model.output.weight)\n",
    "model.state_dict()"
   ]
  },
  {
   "cell_type": "code",
   "execution_count": 526,
   "metadata": {},
   "outputs": [],
   "source": [
    "#Create optimizer for the network parameters\n",
    "optimizer = torch.optim.SGD(model.parameters(), learning_rate)\n",
    "#Instantiate loss function\n",
    "criterion = torch.nn.BCELoss()\n",
    "#criterion = torch.nn.CrossEntropyLoss()\n",
    "#optimizer = torch.optim.Adam(model.parameters(), lr=learning_rate)\n",
    "#Binary logistic regression\n",
    "#Function to iterate the training set and update network weights with batches of images.\n",
    "def train(model, optimizer, criterion):\n",
    "    model.train()\n",
    "    #training mode\n",
    "    running_loss = 0\n",
    "    running_corrects = 0\n",
    "    total = 0\n",
    "    for idx in range(0,train_size,batch_size):\n",
    "        optimizer.zero_grad()\n",
    "        #make the gradients 0\n",
    "        x = torch.from_numpy(train_images[idx:(idx + batch_size), ...]).float()\n",
    "        y = torch.from_numpy(train_labels[idx:(idx + batch_size), ...]).float()\n",
    "        output = model(x.view(-1, 28 ** 2)) #forward pass\n",
    "        preds = (output > 0.5).float()\n",
    "        loss = criterion(output.view_as(y), y) #calculate the loss value\n",
    "        loss.backward() #compute the gradients\n",
    "        optimizer.step() #uptade network parameters\n",
    "        #statistics\n",
    "        running_loss += loss.item() * x.size(0)\n",
    "        #print(preds.data.view(-1))\n",
    "        running_corrects += torch.sum(preds.data.view(-1) == y.data.view(-1)).item() #.item() converts type from torch to python float or int\n",
    "        total += float(y.size(0))\n",
    "        \n",
    "    epoch_loss = running_loss / total #mean epoch loss\n",
    "    epoch_acc = running_corrects / total\n",
    "    #mean epoch accuracy\n",
    "    return epoch_loss, epoch_acc"
   ]
  },
  {
   "cell_type": "code",
   "execution_count": 527,
   "metadata": {},
   "outputs": [],
   "source": [
    "# Function to iterate the validation set and update network weights with batches of images.\n",
    "def val(model, criterion):\n",
    "    model.eval()\n",
    "    #validation mode\n",
    "    running_loss = 0\n",
    "    running_corrects = 0\n",
    "    total = 0\n",
    "    with torch.no_grad():\n",
    "        #We are not backpropagating trhough the validation set, so we can save speed\n",
    "        for idx in range(0, val_size, batch_size):\n",
    "            x = torch.from_numpy(val_images[idx:(idx + batch_size), ...]).float()\n",
    "            y = torch.from_numpy(val_labels[idx:(idx + batch_size), ...]).float()\n",
    "            output = model(x.view(-1, 28 ** 2))\n",
    "            #forward pass\n",
    "            preds = (output > 0.5).float()\n",
    "            loss = criterion(output.view_as(y), y)\n",
    "            #calculate the loss value\n",
    "            #statistics\n",
    "            running_loss += loss.item() * x.size(0)\n",
    "            running_corrects += torch.sum(preds.data.view(-1) == y.data.view(-1)).item()\n",
    "            #.item() converts type from torch to python float or int\n",
    "            total += float(y.size(0))\n",
    "    epoch_loss = running_loss / total\n",
    "    #mean epoch loss\n",
    "    epoch_acc = running_corrects / total\n",
    "    #mean epoch accuracy\n",
    "    return epoch_loss, epoch_acc"
   ]
  },
  {
   "cell_type": "code",
   "execution_count": 528,
   "metadata": {
    "scrolled": false
   },
   "outputs": [
    {
     "name": "stdout",
     "output_type": "stream",
     "text": [
      "train loss\n",
      "0.04071304402276773\n",
      "train accuracy\n",
      "0.9877278883217002\n",
      "val loss\n",
      "0.2200841555131486\n",
      "val accuracy\n",
      "0.9184506455643482\n",
      "Time:  48.110872011995525\n"
     ]
    },
    {
     "data": {
      "image/png": "[encoded data removed]",
      "text/plain": [
       "<Figure size 432x288 with 2 Axes>"
      ]
     },
     "metadata": {},
     "output_type": "display_data"
    }
   ],
   "source": [
    "#Main training loop\n",
    "train_loss =[]\n",
    "train_accuracy = []\n",
    "val_loss = []\n",
    "val_accuracy = []\n",
    "#Remove this line out of jupyter notebooks\n",
    "from IPython import display\n",
    "for epoch in range(epochs):\n",
    "    t_loss, t_acc = train(model, optimizer, criterion)\n",
    "    v_loss, v_acc = val(model, criterion)\n",
    "    train_loss.append(t_loss)\n",
    "    train_accuracy.append(t_acc)\n",
    "    val_loss.append(v_loss)\n",
    "    val_accuracy.append(v_acc)\n",
    "    plt.subplot(1,2,1)\n",
    "    plt.title(\"loss\")\n",
    "    plt.plot(train_loss,'b-')\n",
    "    plt.plot(val_loss,'r-')\n",
    "    plt.legend([\"train\",\"val\"])\n",
    "    plt.subplot(1,2,2)\n",
    "    plt.title(\"accuracy\")\n",
    "    plt.plot(train_accuracy,'b-')\n",
    "    plt.plot(val_accuracy,'r-')\n",
    "    plt.legend([\"train\", \"val\"])\n",
    "    display.clear_output(wait=True)\n",
    "    display.display(plt.gcf())\n",
    "display.clear_output(wait=True)\n",
    "print(\"train loss\")\n",
    "print(t_loss)\n",
    "print(\"train accuracy\")\n",
    "print(t_acc)\n",
    "print(\"val loss\")\n",
    "print(v_loss)\n",
    "print(\"val accuracy\")\n",
    "print(v_acc)\n",
    "stop = timeit.default_timer()\n",
    "print('Time: ', stop - start) "
   ]
  }
 ],
 "metadata": {
  "kernelspec": {
   "display_name": "Python 3",
   "language": "python",
   "name": "python3"
  },
  "language_info": {
   "codemirror_mode": {
    "name": "ipython",
    "version": 3
   },
   "file_extension": ".py",
   "mimetype": "text/x-python",
   "name": "python",
   "nbconvert_exporter": "python",
   "pygments_lexer": "ipython3",
   "version": "3.6.5"
  }
 },
 "nbformat": 4,
 "nbformat_minor": 2
}
